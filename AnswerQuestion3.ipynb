{
  "nbformat": 4,
  "nbformat_minor": 0,
  "metadata": {
    "colab": {
      "provenance": []
    },
    "kernelspec": {
      "name": "python3",
      "display_name": "Python 3"
    },
    "language_info": {
      "name": "python"
    }
  },
  "cells": [
    {
      "cell_type": "code",
      "execution_count": 3,
      "metadata": {
        "colab": {
          "base_uri": "https://localhost:8080/"
        },
        "id": "QWOutCBmtr7F",
        "outputId": "dfb00a55-44c9-49a7-a126-61d1099412d6"
      },
      "outputs": [
        {
          "output_type": "stream",
          "name": "stdout",
          "text": [
            "Before removing duplicate\n",
            "    Employee ID           Name        Designation  Salary\n",
            "0           101  Alice Johnson  Software Engineer   75000\n",
            "1           102      Bob Smith       Data Analyst   62000\n",
            "2           103    Charlie Lee    Product Manager   88000\n",
            "3           104     Diana King       HR Executive   54000\n",
            "4           105   Ethan Wright     Marketing Lead   70000\n",
            "5           106    Fiona Adams    DevOps Engineer   78000\n",
            "6           107    George Hill         Accountant   66000\n",
            "7           108   Hannah Scott     UI/UX Designer   73000\n",
            "8           109      Ian Clark      Sales Manager   71000\n",
            "9           110    Julia Green   Business Analyst   69000\n",
            "10          111     Kevin Hall          Tech Lead   95000\n",
            "11          112   Laura Brooks          Recruiter   55000\n",
            "12          113  Michael Young        QA Engineer   72000\n",
            "13          114     Nina James    Finance Manager   85000\n",
            "14          115    Oscar Lewis   Customer Support   48000\n",
            "15          101  Alice Johnson  Software Engineer   75000\n",
            "16          102      Bob Smith       Data Analyst   62000\n",
            "17          109      Ian Clark      Sales Manager   71000\n",
            "18          114     Nina James    Finance Manager   85000\n",
            "19          115    Oscar Lewis   Customer Support   48000\n",
            "Duplicate Records Found:\n",
            "\n",
            "    Employee ID           Name        Designation  Salary\n",
            "0           101  Alice Johnson  Software Engineer   75000\n",
            "1           102      Bob Smith       Data Analyst   62000\n",
            "8           109      Ian Clark      Sales Manager   71000\n",
            "13          114     Nina James    Finance Manager   85000\n",
            "14          115    Oscar Lewis   Customer Support   48000\n",
            "15          101  Alice Johnson  Software Engineer   75000\n",
            "16          102      Bob Smith       Data Analyst   62000\n",
            "17          109      Ian Clark      Sales Manager   71000\n",
            "18          114     Nina James    Finance Manager   85000\n",
            "19          115    Oscar Lewis   Customer Support   48000\n",
            "\n",
            "Updated file saved as: sample_without_duplicates.csv\n"
          ]
        }
      ],
      "source": [
        "import pandas as pd\n",
        "\n",
        "# Step 1: Load the CSV file\n",
        "file_path = \"/content/sample_with_duplicates.csv\"\n",
        "df = pd.read_csv(file_path)\n",
        "print(\"Before removing duplicate\")\n",
        "\n",
        "print(df)\n",
        "\n",
        "# Step 2: Find and print duplicate records\n",
        "duplicates = df[df.duplicated(keep=False)]\n",
        "print(\"Duplicate Records Found:\\n\")\n",
        "print(duplicates)\n",
        "\n",
        "# Step 3: Remove duplicates (keep only the first occurrence)\n",
        "df_cleaned = df.drop_duplicates(keep='first')\n",
        "\n",
        "# Step 4: Save the cleaned data to a new CSV file\n",
        "output_file_path = \"sample_without_duplicates.csv\"\n",
        "df_cleaned.to_csv(output_file_path, index=False)\n",
        "print(f\"\\nUpdated file saved as: {output_file_path}\")\n"
      ]
    }
  ]
}