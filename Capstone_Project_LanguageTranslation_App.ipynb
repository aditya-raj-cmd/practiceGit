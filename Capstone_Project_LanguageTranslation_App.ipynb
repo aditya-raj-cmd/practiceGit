{
  "cells": [
    {
      "cell_type": "code",
      "source": [
        "# 📦 STEP 1: Install required packages\n",
        "!pip install -q streamlit transformers sentencepiece\n",
        "!wget -q https://github.com/cloudflare/cloudflared/releases/latest/download/cloudflared-linux-amd64.deb\n",
        "!dpkg -i cloudflared-linux-amd64.deb\n"
      ],
      "metadata": {
        "colab": {
          "base_uri": "https://localhost:8080/"
        },
        "id": "2JGbxhkQKsVl",
        "outputId": "f9ce8b18-93c5-42a6-f4e0-77174f16855d"
      },
      "execution_count": 18,
      "outputs": [
        {
          "output_type": "stream",
          "name": "stdout",
          "text": [
            "(Reading database ... \r(Reading database ... 5%\r(Reading database ... 10%\r(Reading database ... 15%\r(Reading database ... 20%\r(Reading database ... 25%\r(Reading database ... 30%\r(Reading database ... 35%\r(Reading database ... 40%\r(Reading database ... 45%\r(Reading database ... 50%\r(Reading database ... 55%\r(Reading database ... 60%\r(Reading database ... 65%\r(Reading database ... 70%\r(Reading database ... 75%\r(Reading database ... 80%\r(Reading database ... 85%\r(Reading database ... 90%\r(Reading database ... 95%\r(Reading database ... 100%\r(Reading database ... 133673 files and directories currently installed.)\n",
            "Preparing to unpack cloudflared-linux-amd64.deb ...\n",
            "Unpacking cloudflared (2025.5.0) over (2025.5.0) ...\n",
            "Setting up cloudflared (2025.5.0) ...\n",
            "Processing triggers for man-db (2.10.2-1) ...\n"
          ]
        }
      ]
    },
    {
      "cell_type": "code",
      "source": [
        "%%writefile app.py\n",
        "import streamlit as st\n",
        "from transformers import MarianMTModel, MarianTokenizer\n",
        "\n",
        "st.set_page_config(page_title=\"🌐 Language Translator\", page_icon=\"🌍\")\n",
        "st.markdown(\"<h1 style='text-align: center; color: #4CAF50;'>🌍 Universal Language Translator</h1>\", unsafe_allow_html=True)\n",
        "\n",
        "@st.cache_resource\n",
        "def get_model(src, tgt):\n",
        "    model_name = f'Helsinki-NLP/opus-mt-{src}-{tgt}'\n",
        "    tokenizer = MarianTokenizer.from_pretrained(model_name)\n",
        "    model = MarianMTModel.from_pretrained(model_name)\n",
        "    return tokenizer, model\n",
        "\n",
        "def translate_text(text, src, tgt):\n",
        "    try:\n",
        "        tokenizer, model = get_model(src, tgt)\n",
        "        inputs = tokenizer(text, return_tensors=\"pt\", padding=True)\n",
        "        translated = model.generate(**inputs)\n",
        "        return tokenizer.decode(translated[0], skip_special_tokens=True)\n",
        "    except:\n",
        "        return None\n",
        "\n",
        "languages = {\n",
        "    \"English\": \"en\",\n",
        "    \"French\": \"fr\",\n",
        "    \"German\": \"de\",\n",
        "    \"Hindi\": \"hi\",\n",
        "    \"Gujarati\": \"gu\",\n",
        "    \"Marathi\": \"mr\",\n",
        "    \"Bangla\": \"bn\",\n",
        "    \"Spanish\": \"es\",\n",
        "    \"Japanese\": \"ja\",\n",
        "    \"Russian\": \"ru\",\n",
        "    \"Arabic\": \"ar\",\n",
        "    \"Chinese\": \"zh\"\n",
        "}\n",
        "\n",
        "with st.container():\n",
        "    st.write(\"### Enter text to translate:\")\n",
        "    text = st.text_area(\"\", height=150)\n",
        "\n",
        "    col1, col2 = st.columns(2)\n",
        "    with col1:\n",
        "        src_lang_name = st.selectbox(\"🔤 From Language\", list(languages.keys()), index=0)\n",
        "    with col2:\n",
        "        tgt_lang_name = st.selectbox(\"🈯 To Language\", list(languages.keys()), index=1)\n",
        "\n",
        "    src = languages[src_lang_name]\n",
        "    tgt = languages[tgt_lang_name]\n",
        "\n",
        "    if st.button(\"🚀 Translate\", use_container_width=True):\n",
        "        if src == tgt:\n",
        "            st.warning(\"Please select different source and target languages.\")\n",
        "        else:\n",
        "            result = translate_text(text, src, tgt)\n",
        "            if result:\n",
        "                st.success(\"✅ Direct Translation:\")\n",
        "                st.markdown(f\"<div style='background-color:#e8f5e9;padding:10px;border-radius:5px;'>{result}</div>\", unsafe_allow_html=True)\n",
        "            else:\n",
        "                st.warning(\"Direct translation not available. Trying via English...\")\n",
        "                inter = translate_text(text, src, \"en\")\n",
        "                if inter:\n",
        "                    final = translate_text(inter, \"en\", tgt)\n",
        "                    if final:\n",
        "                        st.success(\"✅ Translated via English:\")\n",
        "                        st.markdown(f\"<div style='background-color:#fff3e0;padding:10px;border-radius:5px;'>{final}</div>\", unsafe_allow_html=True)\n",
        "                    else:\n",
        "                        st.error(\"❌ English → Target translation failed.\")\n",
        "                else:\n",
        "                    st.error(\"❌ Source → English translation failed.\")\n"
      ],
      "metadata": {
        "colab": {
          "base_uri": "https://localhost:8080/"
        },
        "id": "fLi4YdA1KwTr",
        "outputId": "7c566a29-3696-4e2c-d9e8-d2e7e9c56d6b"
      },
      "execution_count": 19,
      "outputs": [
        {
          "output_type": "stream",
          "name": "stdout",
          "text": [
            "Overwriting app.py\n"
          ]
        }
      ]
    },
    {
      "cell_type": "code",
      "source": [
        "import subprocess\n",
        "import time\n",
        "\n",
        "print(\"📢 Launching Streamlit app...\")\n",
        "streamlit_proc = subprocess.Popen([\"streamlit\", \"run\", \"app.py\"])\n",
        "\n",
        "time.sleep(10)\n",
        "\n",
        "print(\"🌐 Starting Cloudflare Tunnel...\")\n",
        "tunnel_proc = subprocess.Popen(\n",
        "    [\"cloudflared\", \"tunnel\", \"--url\", \"http://localhost:8501\"],\n",
        "    stdout=subprocess.PIPE,\n",
        "    stderr=subprocess.STDOUT,\n",
        "    universal_newlines=True,\n",
        "    bufsize=1\n",
        ")\n",
        "\n",
        "# Print all output lines and manually detect the public URL\n",
        "public_url = None\n",
        "while True:\n",
        "    line = tunnel_proc.stdout.readline()\n",
        "    if line == \"\":\n",
        "        break\n",
        "    print(line.strip())\n",
        "    if \"trycloudflare.com\" in line and \"https://\" in line:\n",
        "        parts = line.strip().split()\n",
        "        for part in parts:\n",
        "            if \"https://\" in part and \"trycloudflare.com\" in part:\n",
        "                public_url = part\n",
        "                break\n",
        "    if public_url:\n",
        "        print(f\"\\n✅ Your Public URL: {public_url}\")\n",
        "        break\n"
      ],
      "metadata": {
        "colab": {
          "base_uri": "https://localhost:8080/"
        },
        "id": "r25fGgqxLZZC",
        "outputId": "5b2e0418-8af4-454c-f30d-25bc5d027702"
      },
      "execution_count": 20,
      "outputs": [
        {
          "output_type": "stream",
          "name": "stdout",
          "text": [
            "📢 Launching Streamlit app...\n",
            "🌐 Starting Cloudflare Tunnel...\n",
            "2025-06-11T04:48:06Z INF Thank you for trying Cloudflare Tunnel. Doing so, without a Cloudflare account, is a quick way to experiment and try it out. However, be aware that these account-less Tunnels have no uptime guarantee, are subject to the Cloudflare Online Services Terms of Use (https://www.cloudflare.com/website-terms/), and Cloudflare reserves the right to investigate your use of Tunnels for violations of such terms. If you intend to use Tunnels in production you should use a pre-created named tunnel by following: https://developers.cloudflare.com/cloudflare-one/connections/connect-apps\n",
            "2025-06-11T04:48:06Z INF Requesting new quick Tunnel on trycloudflare.com...\n",
            "2025-06-11T04:48:09Z INF +--------------------------------------------------------------------------------------------+\n",
            "2025-06-11T04:48:09Z INF |  Your quick Tunnel has been created! Visit it at (it may take some time to be reachable):  |\n",
            "2025-06-11T04:48:09Z INF |  https://fathers-rebecca-pay-drove.trycloudflare.com                                       |\n",
            "\n",
            "✅ Your Public URL: https://fathers-rebecca-pay-drove.trycloudflare.com\n"
          ]
        }
      ]
    }
  ],
  "metadata": {
    "colab": {
      "provenance": [],
      "gpuType": "T4"
    },
    "kernelspec": {
      "display_name": "Python 3",
      "name": "python3"
    },
    "language_info": {
      "name": "python"
    },
    "accelerator": "GPU"
  },
  "nbformat": 4,
  "nbformat_minor": 0
}